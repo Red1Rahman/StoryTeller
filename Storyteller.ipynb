{
 "cells": [
  {
   "cell_type": "code",
   "execution_count": 20,
   "id": "6ded6ae9",
   "metadata": {},
   "outputs": [
    {
     "name": "stdout",
     "output_type": "stream",
     "text": [
      "Requirement already satisfied: metaphor-python in c:\\users\\redoa\\anaconda3\\lib\\site-packages (0.1.16)\n",
      "Requirement already satisfied: requests in c:\\users\\redoa\\anaconda3\\lib\\site-packages (from metaphor-python) (2.27.1)\n",
      "Requirement already satisfied: idna<4,>=2.5 in c:\\users\\redoa\\anaconda3\\lib\\site-packages (from requests->metaphor-python) (3.3)\n",
      "Requirement already satisfied: charset-normalizer~=2.0.0 in c:\\users\\redoa\\anaconda3\\lib\\site-packages (from requests->metaphor-python) (2.0.4)\n",
      "Requirement already satisfied: urllib3<1.27,>=1.21.1 in c:\\users\\redoa\\anaconda3\\lib\\site-packages (from requests->metaphor-python) (1.26.9)\n",
      "Requirement already satisfied: certifi>=2017.4.17 in c:\\users\\redoa\\anaconda3\\lib\\site-packages (from requests->metaphor-python) (2021.10.8)\n",
      "Collecting openai\n",
      "  Downloading openai-0.28.1-py3-none-any.whl (76 kB)\n",
      "Requirement already satisfied: tqdm in c:\\users\\redoa\\anaconda3\\lib\\site-packages (from openai) (4.64.0)\n",
      "Requirement already satisfied: requests>=2.20 in c:\\users\\redoa\\anaconda3\\lib\\site-packages (from openai) (2.27.1)\n",
      "Requirement already satisfied: aiohttp in c:\\users\\redoa\\anaconda3\\lib\\site-packages (from openai) (3.8.1)\n",
      "Requirement already satisfied: certifi>=2017.4.17 in c:\\users\\redoa\\anaconda3\\lib\\site-packages (from requests>=2.20->openai) (2021.10.8)\n",
      "Requirement already satisfied: idna<4,>=2.5 in c:\\users\\redoa\\anaconda3\\lib\\site-packages (from requests>=2.20->openai) (3.3)\n",
      "Requirement already satisfied: urllib3<1.27,>=1.21.1 in c:\\users\\redoa\\anaconda3\\lib\\site-packages (from requests>=2.20->openai) (1.26.9)\n",
      "Requirement already satisfied: charset-normalizer~=2.0.0 in c:\\users\\redoa\\anaconda3\\lib\\site-packages (from requests>=2.20->openai) (2.0.4)\n",
      "Requirement already satisfied: async-timeout<5.0,>=4.0.0a3 in c:\\users\\redoa\\anaconda3\\lib\\site-packages (from aiohttp->openai) (4.0.1)\n",
      "Requirement already satisfied: frozenlist>=1.1.1 in c:\\users\\redoa\\anaconda3\\lib\\site-packages (from aiohttp->openai) (1.2.0)\n",
      "Requirement already satisfied: aiosignal>=1.1.2 in c:\\users\\redoa\\anaconda3\\lib\\site-packages (from aiohttp->openai) (1.2.0)\n",
      "Requirement already satisfied: multidict<7.0,>=4.5 in c:\\users\\redoa\\anaconda3\\lib\\site-packages (from aiohttp->openai) (5.1.0)\n",
      "Requirement already satisfied: yarl<2.0,>=1.0 in c:\\users\\redoa\\anaconda3\\lib\\site-packages (from aiohttp->openai) (1.6.3)\n",
      "Requirement already satisfied: attrs>=17.3.0 in c:\\users\\redoa\\anaconda3\\lib\\site-packages (from aiohttp->openai) (21.4.0)\n",
      "Requirement already satisfied: typing-extensions>=3.6.5 in c:\\users\\redoa\\anaconda3\\lib\\site-packages (from async-timeout<5.0,>=4.0.0a3->aiohttp->openai) (4.1.1)\n",
      "Requirement already satisfied: colorama in c:\\users\\redoa\\anaconda3\\lib\\site-packages (from tqdm->openai) (0.4.4)\n",
      "Installing collected packages: openai\n",
      "Successfully installed openai-0.28.1\n"
     ]
    }
   ],
   "source": [
    "!pip install metaphor-python\n",
    "!pip install openai"
   ]
  },
  {
   "cell_type": "code",
   "execution_count": 2,
   "id": "2d4435cf",
   "metadata": {},
   "outputs": [],
   "source": [
    "story_prompt = \"importance of cherishing memories\""
   ]
  },
  {
   "cell_type": "code",
   "execution_count": 36,
   "id": "6983a4a2",
   "metadata": {},
   "outputs": [],
   "source": [
    "from metaphor_python import Metaphor\n",
    "import openai\n",
    "import os\n",
    "import json"
   ]
  },
  {
   "cell_type": "code",
   "execution_count": 15,
   "id": "e6f56373",
   "metadata": {},
   "outputs": [
    {
     "name": "stdout",
     "output_type": "stream",
     "text": [
      "Title: Child drawings paint a picture of life at Mount Margaret Mission\n",
      "URL: https://www.abc.net.au/news/2022-09-28/mount-margaret-mission-children-drawings-found/101368414\n",
      "ID: 6Xlm7xwiz7CaZnlAoQtffg\n",
      "Score: 0.14575165510177612\n",
      "Published Date: 2022-09-28\n",
      "Author: Andrew Chounding\n",
      "Extract: None\n",
      "\n",
      "Autoprompt String: Here is a heartwarming story about teaching children the importance of cherishing memories:\n"
     ]
    }
   ],
   "source": [
    "metaphor = Metaphor(\"dee65d51-0e71-4cb5-a423-2b2780ec2f74\")\n",
    "\n",
    "metaphor_response = metaphor.search(\n",
    "  \"Stories about teaching the \" + story_prompt + \" to children\",\n",
    "  num_results=1,\n",
    "  use_autoprompt=True,\n",
    ")\n",
    "\n",
    "print(metaphor_response.__str__())"
   ]
  },
  {
   "cell_type": "code",
   "execution_count": 39,
   "id": "927dfef5",
   "metadata": {},
   "outputs": [],
   "source": [
    "metaphor_response_content = metaphor.get_contents([metaphor_response.results[0].id])"
   ]
  },
  {
   "cell_type": "code",
   "execution_count": 41,
   "id": "b7d416af",
   "metadata": {},
   "outputs": [
    {
     "data": {
      "text/markdown": [
       "<div><div><p>Laurel Cooper was five years old when she was taken from her parents and sent to live at the Mount Margaret Mission.   </p><p>At 88, she still remembers the pain she felt when she was separated from her mother and the community that took her in.</p><p>\"At first it was very sad for me, leaving my mum and going into the mission there, but the bigger girls were really good to us; they used to comfort us and help us,\" she said.</p><p>While at Mount Margaret, Ms Cooper, like dozens of other children, recorded her experiences through a series of crayon drawings.</p><p>The drawings, previously thought to be lost, date back to 1936 and were recently uncovered and turned into a book, Remembering Mount Margaret Mission.</p><figure><div><p></p></div><figcaption> Laurel Cooper grew up at the Mount Margaret Mission.<cite>(ABC Goldfields: Andrew Chounding)</cite></figcaption></figure><p>As one of the few children still alive who lived at the mission, Ms Cooper worked alongside a team of researchers to piece together the history of the drawings.</p><p>She remembers one of her first drawings, a picture of a pet she left behind.</p><p>\"I had a dog before I went into the mission,\" she said.</p><p>\"Another family had to go to the mission and so they left the dog with me, and I had the dog until I went into the mission.</p><p>\"The teacher told me to draw something, or all of us to draw something, so I drew the dog.\"</p><figure><div><p></p></div><figcaption> A crayon drawing of a truck by 13-year-old boy Ollan Dimer in 1939.<cite>(Supplied: Department of Local Government, Sport and Cultural Industries)</cite></figcaption></figure><h2>Pictures provide new perspective </h2><p>The discovery of the drawings has shone new light on the early days of life at the Mount Margaret Mission.</p><p>Founded in 1921 by evangelist Rodolphe Samuel Schenk, the mission, situated on Wongatha land about 20 kilometres south-west of Laverton, was established as a refuge and later became a school.</p><p>Mark Chambers was one of the researchers who worked on the book and said the drawings were created as part of a social study by South Australian anthropologist Norman Tindale.</p><figure><div><p></p></div><figcaption> This well was installed when the mission was established.<cite>(ABC Goldfields: Madison Snow)</cite></figcaption></figure><p>Mr Chambers said the drawings provided a rare perspective of how the children at the mission viewed their environment.</p><p>\"It's an indication of what Mount Margaret was like at the time,\" he said.</p><p>\"It's not from somebody coming with a camera and taking snapshots of the place; it's how the children remember their life.</p><p>\"I think that's the value we get from items such as this, they complement the photos and reports we have of the era.\"</p><figure><div><p></p></div><figcaption> A crayon drawing by one of the children from the Mount Margaret Mission.<cite>(Supplied: Department of Local Government, Sport and Cultural Industries)</cite></figcaption></figure><h2>Stories captured in crayon </h2><p>The book is made up of 29 pictures from children who were at Mount Margaret, with many including similar depictions of buildings and trucks that were on the mission.</p><p>Adjunct professor at the school of social sciences at the University of Western Australia John Stanton was in Mount Margaret in the mid-1970s as a PhD candidate. </p><p>He said Tindale's study sought to capture stories that were often depicted in forms that could not be preserved.</p><p>\"Usually, people just sat on the sand and drew designs with their fingertips, but this was not permanent, and I think Tindale wanted to learn more about the world of these people, from both child's perspective and adults,\" he said.</p><p>Ms Cooper said many of the people she grew up with at the mission had since died and she saw the book as a way for their families"
      ],
      "text/plain": [
       "<IPython.core.display.Markdown object>"
      ]
     },
     "metadata": {},
     "output_type": "display_data"
    }
   ],
   "source": [
    "from IPython.display import display, Markdown\n",
    "display(Markdown(metaphor_response_content.contents[0].extract))"
   ]
  },
  {
   "cell_type": "code",
   "execution_count": 44,
   "id": "d0a1c577",
   "metadata": {},
   "outputs": [
    {
     "name": "stdout",
     "output_type": "stream",
     "text": [
      "Once upon a time, in a quiet and magical forest, there lived a group of adorable woodland creatures. They were always curious and loved exploring the world around them. One sunny day, as they were hopping and skipping through the trees, they stumbled upon something quite extraordinary.\n",
      " \n",
      "Underneath a shimmering rainbow, they discovered a mysterious old chest hidden amidst the colorful wildflowers. With twinkling eyes and excited hearts, they carefully opened the chest to reveal a collection of cherished memories.\n",
      "\n",
      "Inside were vibrant and beautiful drawings, each capturing moments of joy, love, and friendship. The little creatures marveled at the incredible drawings, feeling a deep connection to the stories woven within them.\n",
      "\n",
      "Realizing the significance of these memories, they decided to embark on a magical journey to find the artists behind these heartfelt drawings. Their mission was to help others cherish their memories and understand their importance.\n",
      "\n",
      "Through tall grasses, across rushing rivers, and over towering hills, the group of woodland creatures searched for the artists. Along the way, they encountered various challenges and obstacles, but their determination never wavered.\n",
      "\n",
      "Finally, they arrived at a warm and welcoming village where they discovered a group of children who were known for their incredible artistic talent. The children eagerly listened to the woodland creatures and their quest to cherish memories.\n",
      "\n",
      "Inspired by the message, the children came up with a brilliant idea. Together, they decided to organize a magical memory fair. They invited everyone in the village to come and celebrate the beauty of cherished memories.\n",
      "\n",
      "On the day of the fair, the village was filled with laughter, music, and the sweet scent of nostalgia. Each child proudly displayed their artwork while the woodland creatures shared stories about the drawings they found.\n",
      "\n",
      "Families and friends gathered around, sharing their own memories and reflecting on the importance of cherishing the precious moments that make life so special. The air was filled with love, gratitude, and the joy of remembering both the big and small moments that had shaped their lives.\n",
      "\n",
      "As the fair came to an end, the woodland creatures saw the radiant smiles on the faces of the children and their families. They knew their mission was complete, and that the message of cherishing memories had touched the hearts of everyone present.\n",
      "\n",
      "With hearts full of gratitude, the woodland creatures bid their new friends farewell, promising to return one day. As they journeyed back to their magical forest, they knew they had created a lasting impact on the village and had inspired the children and families to treasure their memories forever.\n",
      "\n",
      "And so, the magical forest continued to thrive, with the woodland creatures and the people of the village forever cherishing the memories they had made together. For they understood that in the tapestry of life, memories were the most precious colors that kept their stories alive for generations to come.\n"
     ]
    }
   ],
   "source": [
    "openai.api_key = 'Your_API_Key'\n",
    "system_msg = \"I am a story writer, I write stories for children from metaphor search results\"\n",
    "user_msg = \"change the story in \" + metaphor_response.results[0].url + \" to a fictional story fit for children with the message /'\"  + story_prompt + \"/'\"\n",
    "response = openai.ChatCompletion.create(model=\"gpt-3.5-turbo\",\n",
    "                                        messages=[{\"role\": \"system\", \"content\": system_msg},\n",
    "                                         {\"role\": \"user\", \"content\": user_msg}])\n",
    "\n",
    "print(response[\"choices\"][0][\"message\"][\"content\"])"
   ]
  }
 ],
 "metadata": {
  "kernelspec": {
   "display_name": "Python 3 (ipykernel)",
   "language": "python",
   "name": "python3"
  },
  "language_info": {
   "codemirror_mode": {
    "name": "ipython",
    "version": 3
   },
   "file_extension": ".py",
   "mimetype": "text/x-python",
   "name": "python",
   "nbconvert_exporter": "python",
   "pygments_lexer": "ipython3",
   "version": "3.9.12"
  }
 },
 "nbformat": 4,
 "nbformat_minor": 5
}
